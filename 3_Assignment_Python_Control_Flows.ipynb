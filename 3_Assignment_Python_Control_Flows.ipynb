{
  "nbformat": 4,
  "nbformat_minor": 0,
  "metadata": {
    "colab": {
      "provenance": [],
      "authorship_tag": "ABX9TyNwA+hMSabvKxr2295xjnyE",
      "include_colab_link": true
    },
    "kernelspec": {
      "name": "python3",
      "display_name": "Python 3"
    },
    "language_info": {
      "name": "python"
    }
  },
  "cells": [
    {
      "cell_type": "markdown",
      "metadata": {
        "id": "view-in-github",
        "colab_type": "text"
      },
      "source": [
        "<a href=\"https://colab.research.google.com/github/abriyansyah05/Katalis/blob/main/3_Assignment_Python_Control_Flows.ipynb\" target=\"_parent\"><img src=\"https://colab.research.google.com/assets/colab-badge.svg\" alt=\"Open In Colab\"/></a>"
      ]
    },
    {
      "cell_type": "markdown",
      "source": [
        "#Assignment: Python Control Flows"
      ],
      "metadata": {
        "id": "wu0jDOer5OAb"
      }
    },
    {
      "cell_type": "markdown",
      "source": [
        "1. Write a Python program that takes an integer input *n*\n",
        "from the user."
      ],
      "metadata": {
        "id": "PcicE9m-5P9j"
      }
    },
    {
      "cell_type": "code",
      "execution_count": 1,
      "metadata": {
        "colab": {
          "base_uri": "https://localhost:8080/"
        },
        "id": "lRxGrkcIohoJ",
        "outputId": "56707068-3b4a-4c66-b7cb-7fa65057aae2"
      },
      "outputs": [
        {
          "name": "stdout",
          "output_type": "stream",
          "text": [
            "Input number: 5\n"
          ]
        }
      ],
      "source": [
        "n = int(input(\"Input number: \"))"
      ]
    },
    {
      "cell_type": "markdown",
      "source": [
        "2. Implement the following conditional statements (elif)\n"
      ],
      "metadata": {
        "id": "movHFVsX77Jy"
      }
    },
    {
      "cell_type": "code",
      "source": [
        "if n > 0:\n",
        "  print(\"The number is Positive. \")\n",
        "elif n < 0:\n",
        "  print(\"The number is Negative. \")\n",
        "else:\n",
        "  print(\"The number is Zero \")"
      ],
      "metadata": {
        "colab": {
          "base_uri": "https://localhost:8080/"
        },
        "id": "yvRLHRzG5oh2",
        "outputId": "3fb3ed2b-22a8-483e-8c28-07402f4b29b7"
      },
      "execution_count": 2,
      "outputs": [
        {
          "output_type": "stream",
          "name": "stdout",
          "text": [
            "The number is Positive. \n"
          ]
        }
      ]
    },
    {
      "cell_type": "markdown",
      "source": [
        "3. Using a loop (either \"for\" or \"while\"), print the sum of all integers from 1 to\n",
        " (inclusive)."
      ],
      "metadata": {
        "id": "_Bf0Iv3r8Yw3"
      }
    },
    {
      "cell_type": "code",
      "source": [
        "sum = 0\n",
        "for i in range(1, n+1):\n",
        "  sum += i\n",
        "\n",
        "print(sum)"
      ],
      "metadata": {
        "colab": {
          "base_uri": "https://localhost:8080/"
        },
        "id": "V9YE97co8ebC",
        "outputId": "acf44a61-91a3-446a-d2ca-edce897f3364"
      },
      "execution_count": 4,
      "outputs": [
        {
          "output_type": "stream",
          "name": "stdout",
          "text": [
            "15\n"
          ]
        }
      ]
    },
    {
      "cell_type": "markdown",
      "source": [
        "4. Implement a loop to print all odd numbers from 1 to *n*\n",
        " (inclusive)."
      ],
      "metadata": {
        "id": "hpk7RKXX-WGu"
      }
    },
    {
      "cell_type": "code",
      "source": [
        "odd = []\n",
        "for i in range (1, n+1):\n",
        "  if i % 2 ==0:\n",
        "    continue\n",
        "  else:\n",
        "    odd.append(i)\n",
        "\n",
        "print(odd)"
      ],
      "metadata": {
        "colab": {
          "base_uri": "https://localhost:8080/"
        },
        "id": "8ARUprfU-Y04",
        "outputId": "f10e6e84-58f9-44e0-8795-dc6d0c9b65b6"
      },
      "execution_count": 7,
      "outputs": [
        {
          "output_type": "stream",
          "name": "stdout",
          "text": [
            "[1, 3, 5]\n"
          ]
        }
      ]
    },
    {
      "cell_type": "markdown",
      "source": [
        "5. Implement a loop to print the factorial of *n*\n",
        ". The factorial of a non-negative integer *n*\n",
        " is the product of all positive integers less than or equal to *n*\n",
        "."
      ],
      "metadata": {
        "id": "ShUdDDVb-8Qv"
      }
    },
    {
      "cell_type": "code",
      "source": [
        "factorial = 1\n",
        "\n",
        "for i in range (1, n + 1):\n",
        "  factorial *= i\n",
        "\n",
        "print(factorial)"
      ],
      "metadata": {
        "colab": {
          "base_uri": "https://localhost:8080/"
        },
        "id": "5AL_1Mxl_D1r",
        "outputId": "307b5bdb-340a-44f2-e46d-892307ea4ae3"
      },
      "execution_count": 8,
      "outputs": [
        {
          "output_type": "stream",
          "name": "stdout",
          "text": [
            "120\n"
          ]
        }
      ]
    },
    {
      "cell_type": "markdown",
      "source": [
        "6. Use nested loops (either \"for\" or \"while\") to create and print the following pattern (for*n*\n",
        "):"
      ],
      "metadata": {
        "id": "tW5QVZgk_b0Z"
      }
    },
    {
      "cell_type": "code",
      "source": [
        "for row in range(1, n+1):\n",
        "    for star in range(row):\n",
        "        print('*', end=' ')\n",
        "    print()"
      ],
      "metadata": {
        "colab": {
          "base_uri": "https://localhost:8080/"
        },
        "id": "nzv3TGWB_X7P",
        "outputId": "12da2ed8-7119-40e2-8ee3-0bd58bbb5640"
      },
      "execution_count": 10,
      "outputs": [
        {
          "output_type": "stream",
          "name": "stdout",
          "text": [
            "* \n",
            "* * \n",
            "* * * \n",
            "* * * * \n",
            "* * * * * \n"
          ]
        }
      ]
    },
    {
      "cell_type": "code",
      "source": [],
      "metadata": {
        "id": "A1ZaSys-_wx4"
      },
      "execution_count": null,
      "outputs": []
    }
  ]
}