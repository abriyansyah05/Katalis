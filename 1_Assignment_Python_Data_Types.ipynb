{
  "nbformat": 4,
  "nbformat_minor": 0,
  "metadata": {
    "colab": {
      "provenance": [],
      "authorship_tag": "ABX9TyMgMr4yQRB8yY4mhvufyHll",
      "include_colab_link": true
    },
    "kernelspec": {
      "name": "python3",
      "display_name": "Python 3"
    },
    "language_info": {
      "name": "python"
    }
  },
  "cells": [
    {
      "cell_type": "markdown",
      "metadata": {
        "id": "view-in-github",
        "colab_type": "text"
      },
      "source": [
        "<a href=\"https://colab.research.google.com/github/abriyansyah05/Katalis/blob/main/1_Assignment_Python_Data_Types.ipynb\" target=\"_parent\"><img src=\"https://colab.research.google.com/assets/colab-badge.svg\" alt=\"Open In Colab\"/></a>"
      ]
    },
    {
      "cell_type": "markdown",
      "source": [
        "# Assignment: Python Data Types"
      ],
      "metadata": {
        "id": "mG4NMzcohuqA"
      }
    },
    {
      "cell_type": "markdown",
      "source": [
        "1. Create a Python program that defines the following variables:"
      ],
      "metadata": {
        "id": "2gYVWY2TiFSK"
      }
    },
    {
      "cell_type": "code",
      "execution_count": 1,
      "metadata": {
        "id": "dE0qkQoMgaSR"
      },
      "outputs": [],
      "source": [
        "name = \"Muh. Abri Yansyah\"\n",
        "age = 24\n",
        "height = 1.75\n",
        "is_student = True"
      ]
    },
    {
      "cell_type": "markdown",
      "source": [
        "2. Print the type of each variable using the \"type()\" function."
      ],
      "metadata": {
        "id": "tUFCRzZhkzrF"
      }
    },
    {
      "cell_type": "code",
      "source": [
        "print(\"Data Types: \")\n",
        "print(\"\\nname \\t \\t: \",type(name))\n",
        "print(\"\\nage \\t \\t: \",type(age))\n",
        "print(\"\\nheight \\t \\t: \",type(height))\n",
        "print(\"\\nis_student \\t: \",type(is_student))"
      ],
      "metadata": {
        "colab": {
          "base_uri": "https://localhost:8080/"
        },
        "id": "tZj9ohyVjpVt",
        "outputId": "5962e8f9-9436-4832-b4c9-9e61ccf5a4c5"
      },
      "execution_count": 6,
      "outputs": [
        {
          "output_type": "stream",
          "name": "stdout",
          "text": [
            "Data Types: \n",
            "\n",
            "name \t \t:  <class 'str'>\n",
            "\n",
            "age \t \t:  <class 'int'>\n",
            "\n",
            "height \t \t:  <class 'float'>\n",
            "\n",
            "is_student \t:  <class 'bool'>\n"
          ]
        }
      ]
    },
    {
      "cell_type": "markdown",
      "source": [
        "3. New Operations"
      ],
      "metadata": {
        "id": "iWhJSGkOnaSI"
      }
    },
    {
      "cell_type": "code",
      "source": [
        "student_status = {\"is_name\":\"Muh. Abri Yansyah\", \"is_student\" : True}\n",
        "age_in_dog_years = age * 7\n",
        "height_in_cm = height * 100"
      ],
      "metadata": {
        "id": "A8TL0hzonZiC"
      },
      "execution_count": 8,
      "outputs": []
    },
    {
      "cell_type": "markdown",
      "source": [
        "4. Print the following information:"
      ],
      "metadata": {
        "id": "tv_BdToIo9Ss"
      }
    },
    {
      "cell_type": "code",
      "source": [
        "print(\"Name \\t: \", student_status['is_name'])\n",
        "print(\"\\nAge \\t: \", age, \" (Dog years: \",age_in_dog_years,\")\")\n",
        "print(\"\\nHeight \\t: \", height, \" meters\",\" (Height in centimeters: \", height_in_cm,\" cm)\")\n",
        "print(\"\\nStudent\\t: \", student_status[\"is_student\"])"
      ],
      "metadata": {
        "colab": {
          "base_uri": "https://localhost:8080/"
        },
        "id": "QDFixY5_jETf",
        "outputId": "40308f94-cdc3-494f-d3f5-8bd4950b34a7"
      },
      "execution_count": 16,
      "outputs": [
        {
          "output_type": "stream",
          "name": "stdout",
          "text": [
            "Name \t:  Muh. Abri Yansyah\n",
            "\n",
            "Age \t:  24  (Dog years:  168 )\n",
            "\n",
            "Height \t:  1.75  meters  (Height in centimeters:  175.0  cm)\n",
            "\n",
            "Student\t:  True\n"
          ]
        }
      ]
    }
  ]
}