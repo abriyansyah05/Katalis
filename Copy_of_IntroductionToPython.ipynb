{
  "nbformat": 4,
  "nbformat_minor": 0,
  "metadata": {
    "colab": {
      "provenance": []
    },
    "kernelspec": {
      "name": "python3",
      "display_name": "Python 3"
    },
    "language_info": {
      "name": "python"
    }
  },
  "cells": [
    {
      "cell_type": "markdown",
      "source": [
        "# Python Syntax"
      ],
      "metadata": {
        "id": "XHqdVYqUewkg"
      }
    },
    {
      "cell_type": "markdown",
      "source": [
        "## Indentation"
      ],
      "metadata": {
        "id": "gtuL5rCAe4bH"
      }
    },
    {
      "cell_type": "markdown",
      "source": [
        "Python uses indentation (typically four spaces) to define the structure and hierarchy of code blocks, such as loops, functions, and conditionals. Proper indentation is crucial for the correct interpretation of Python code."
      ],
      "metadata": {
        "id": "VVMjiRYJbt7L"
      }
    },
    {
      "cell_type": "code",
      "execution_count": null,
      "metadata": {
        "id": "D-WWu_gjerim",
        "colab": {
          "base_uri": "https://localhost:8080/"
        },
        "outputId": "b7d61385-eda5-4462-d85a-cced572c8319"
      },
      "outputs": [
        {
          "output_type": "stream",
          "name": "stdout",
          "text": [
            "x is greater than 5\n"
          ]
        }
      ],
      "source": [
        "## Indentation\n",
        "\n",
        "x = 7\n",
        "\n",
        "if x > 5:\n",
        "    print(\"x is greater than 5\")\n",
        "else:\n",
        "    print(\"x is less than or equal to 5\")"
      ]
    },
    {
      "cell_type": "markdown",
      "source": [
        "## Comments"
      ],
      "metadata": {
        "id": "c6SnUBSAe_Zr"
      }
    },
    {
      "cell_type": "markdown",
      "source": [
        "Comments are used to add explanatory notes within the code and are ignored by the interpreter. In Python, comments start with the hash symbol (#) and can be placed on a separate line or at the end of a line of code."
      ],
      "metadata": {
        "id": "YV3r13Afbx23"
      }
    },
    {
      "cell_type": "code",
      "source": [
        "# This is a comment\n",
        "print(\"Hello, World!\")  # This is another comment"
      ],
      "metadata": {
        "id": "NcdWdkCPfBM3",
        "colab": {
          "base_uri": "https://localhost:8080/"
        },
        "outputId": "04cdd36b-74fd-4aa5-d2dd-6abda3725913"
      },
      "execution_count": null,
      "outputs": [
        {
          "output_type": "stream",
          "name": "stdout",
          "text": [
            "Hello, World!\n"
          ]
        }
      ]
    },
    {
      "cell_type": "markdown",
      "source": [
        "## Quotations"
      ],
      "metadata": {
        "id": "7tpwLOe68Rad"
      }
    },
    {
      "cell_type": "markdown",
      "source": [
        "Python accepts single ('), double (\") and triple (''' or \"\"\") quotes to denote string literals, as long as the same type of quote starts and ends the string.\n",
        "\n",
        "The triple quotes are used to span the string across multiple lines."
      ],
      "metadata": {
        "id": "2ZimrLmU8TRe"
      }
    },
    {
      "cell_type": "code",
      "source": [
        "word = 'word'\n",
        "\n",
        "sentence = \"This is a sentence.\"\n",
        "\n",
        "paragraph = \"\"\"This is a paragraph. It is\n",
        " made up of multiple lines and sentences.\"\"\"\n",
        "\n",
        "print(word)"
      ],
      "metadata": {
        "id": "k0IKbBxI8REW",
        "colab": {
          "base_uri": "https://localhost:8080/"
        },
        "outputId": "3c3dfba5-7070-4441-dd80-da13d1012e2d"
      },
      "execution_count": null,
      "outputs": [
        {
          "output_type": "stream",
          "name": "stdout",
          "text": [
            "word\n"
          ]
        }
      ]
    },
    {
      "cell_type": "markdown",
      "source": [
        "## Variables and Data Types"
      ],
      "metadata": {
        "id": "BQwnHhDjfDBj"
      }
    },
    {
      "cell_type": "markdown",
      "source": [
        "Variables are used to store data in memory. In Python, you can assign values to variables using the assignment operator (=). Python is dynamically typed, meaning you don't need to explicitly declare the variable type. Common data types include integers, floats, strings, booleans, lists, tuples, dictionaries, and more."
      ],
      "metadata": {
        "id": "-lAlsVq9b1vD"
      }
    },
    {
      "cell_type": "code",
      "source": [
        "x = 10\n",
        "y = 3.14\n",
        "name = \"John\"\n",
        "is_student = True\n",
        "my_list = [1, 2, 3]\n",
        "my_dict = {\"name\": \"Alice\", \"age\": 25}"
      ],
      "metadata": {
        "id": "kAfodnExfIIB"
      },
      "execution_count": null,
      "outputs": []
    },
    {
      "cell_type": "markdown",
      "source": [
        "## Control Structures"
      ],
      "metadata": {
        "id": "NJZL2Q_ZfKp4"
      }
    },
    {
      "cell_type": "markdown",
      "source": [
        "Python includes control structures such as if statements, for and while loops, and try-except blocks for exception handling. These control structures allow you to control the flow of execution based on conditions or iterate over collections of data."
      ],
      "metadata": {
        "id": "SkqqTxv1b6GV"
      }
    },
    {
      "cell_type": "code",
      "source": [
        "if x > 10:\n",
        "    print(\"x is greater than 10\")\n",
        "elif x == 10:\n",
        "    print(\"x is equal to 10\")\n",
        "else:\n",
        "    print(\"x is less than 10\")"
      ],
      "metadata": {
        "id": "KdTfEsjbfMS8",
        "colab": {
          "base_uri": "https://localhost:8080/"
        },
        "outputId": "06a13784-b3b9-4dc9-b60d-0c08ee8132c3"
      },
      "execution_count": null,
      "outputs": [
        {
          "output_type": "stream",
          "name": "stdout",
          "text": [
            "x is equal to 10\n"
          ]
        }
      ]
    },
    {
      "cell_type": "code",
      "source": [
        "for item in my_list:\n",
        "    print(item)"
      ],
      "metadata": {
        "colab": {
          "base_uri": "https://localhost:8080/"
        },
        "id": "5toCBYBWE8-s",
        "outputId": "766bc237-71ee-4d5e-bfe7-c3c957601313"
      },
      "execution_count": null,
      "outputs": [
        {
          "output_type": "stream",
          "name": "stdout",
          "text": [
            "1\n",
            "2\n",
            "3\n"
          ]
        }
      ]
    },
    {
      "cell_type": "code",
      "source": [
        "count = 0\n",
        "\n",
        "while count < 10:\n",
        "    print(count)\n",
        "    count += 1"
      ],
      "metadata": {
        "colab": {
          "base_uri": "https://localhost:8080/"
        },
        "id": "PW5ZpiZtE-5j",
        "outputId": "19511c7f-d182-435d-cc6f-f8c99cd739ac"
      },
      "execution_count": null,
      "outputs": [
        {
          "output_type": "stream",
          "name": "stdout",
          "text": [
            "0\n",
            "1\n",
            "2\n",
            "3\n",
            "4\n",
            "5\n",
            "6\n",
            "7\n",
            "8\n",
            "9\n"
          ]
        }
      ]
    },
    {
      "cell_type": "markdown",
      "source": [
        "## Functions"
      ],
      "metadata": {
        "id": "A9tm5xlbfOho"
      }
    },
    {
      "cell_type": "markdown",
      "source": [
        "Functions are reusable blocks of code that perform specific tasks. In Python, functions are defined using the def keyword, followed by the function name, arguments (if any), and a colon. The function body is indented below the function definition."
      ],
      "metadata": {
        "id": "YZj2mcvXb_3z"
      }
    },
    {
      "cell_type": "code",
      "source": [
        "def greet(name):\n",
        "    print(\"Hello, \" + name + \"!\")\n",
        "\n",
        "greet(\"Alice\")"
      ],
      "metadata": {
        "id": "-FOaUK79fQkZ",
        "colab": {
          "base_uri": "https://localhost:8080/"
        },
        "outputId": "ddac1bdf-eea0-4768-d85a-4ff3fc8a0cc2"
      },
      "execution_count": null,
      "outputs": [
        {
          "output_type": "stream",
          "name": "stdout",
          "text": [
            "Hello, Alice!\n"
          ]
        }
      ]
    },
    {
      "cell_type": "markdown",
      "source": [
        "# Python Data Types"
      ],
      "metadata": {
        "id": "Z0dQGgWlgNvq"
      }
    },
    {
      "cell_type": "code",
      "source": [
        "# DataType Output: str\n",
        "x = \"Hello World\"\n",
        "\n",
        "# DataType Output: int\n",
        "x = 50\n",
        "\n",
        "# DataType Output: float\n",
        "x = 60.5\n",
        "\n",
        "# DataType Output: complex\n",
        "x = 3j\n",
        "\n",
        "# DataType Output: list\n",
        "x = [\"hello\", \"worlds\", \"hello\"]\n",
        "\n",
        "# DataType Output: tuple\n",
        "x = (\"hello\", \"worlds\", \"hello\")\n",
        "\n",
        "# DataType Output: range\n",
        "x = range(10)\n",
        "\n",
        "# DataType Output: dict\n",
        "x = {\"name\": \"Anna\", \"age\": 24}\n",
        "\n",
        "# DataType Output: set\n",
        "x = {\"hello\", \"worlds\", \"hello\"}\n",
        "\n",
        "# DataType Output: frozenset\n",
        "x = frozenset({\"hello\", \"worlds\", \"hello\"})\n",
        "\n",
        "# DataType Output: bool\n",
        "x = True\n",
        "\n",
        "# DataType Output: bytes\n",
        "x = b\"Geeks\"\n",
        "\n",
        "# DataType Output: bytearray\n",
        "x = bytearray(4)\n",
        "\n",
        "# DataType Output: memoryview\n",
        "x = memoryview(bytes(6))\n",
        "\n",
        "# DataType Output: NoneType\n",
        "x = None"
      ],
      "metadata": {
        "id": "_KB69f3oawuR"
      },
      "execution_count": null,
      "outputs": []
    },
    {
      "cell_type": "markdown",
      "source": [
        "## Numeric Data Type"
      ],
      "metadata": {
        "id": "xdm3KC3ca4Ss"
      }
    },
    {
      "cell_type": "code",
      "source": [
        "# demonstrate numeric value\n",
        "\n",
        "a = 5\n",
        "print(\"Type of a: \", type(a))\n",
        "\n",
        "b = 5.0\n",
        "print(\"\\nType of b: \", type(b))\n",
        "\n",
        "c = 2 + 4j\n",
        "print(\"\\nType of c: \", type(c))"
      ],
      "metadata": {
        "id": "8S9_DmmhbAIq",
        "colab": {
          "base_uri": "https://localhost:8080/"
        },
        "outputId": "901a278e-5240-49a9-9f57-df91418cdd34"
      },
      "execution_count": null,
      "outputs": [
        {
          "output_type": "stream",
          "name": "stdout",
          "text": [
            "Type of a:  <class 'int'>\n",
            "\n",
            "Type of b:  <class 'float'>\n",
            "\n",
            "Type of c:  <class 'complex'>\n"
          ]
        }
      ]
    },
    {
      "cell_type": "markdown",
      "source": [
        "## Sequence Data Types"
      ],
      "metadata": {
        "id": "SltvxfadbbhT"
      }
    },
    {
      "cell_type": "markdown",
      "source": [
        "### Strings"
      ],
      "metadata": {
        "id": "oKm-PaWLbfXO"
      }
    },
    {
      "cell_type": "code",
      "source": [
        "# Creating a String with single Quotes\n",
        "String1 = 'Welcome to the Data World'\n",
        "print(\"String with the use of Single Quotes: \")\n",
        "print(String1)"
      ],
      "metadata": {
        "id": "q3tY3vnUbdgf",
        "colab": {
          "base_uri": "https://localhost:8080/"
        },
        "outputId": "0c6ac78a-82ea-44c3-f0e4-925393e84419"
      },
      "execution_count": null,
      "outputs": [
        {
          "output_type": "stream",
          "name": "stdout",
          "text": [
            "String with the use of Single Quotes: \n",
            "Welcome to the Data World\n"
          ]
        }
      ]
    },
    {
      "cell_type": "code",
      "source": [
        "# Creating a String with double Quotes\n",
        "String1 = \"I'm an Analyst\"\n",
        "print(\"\\nString with the use of Double Quotes: \")\n",
        "print(String1)\n",
        "print(type(String1))"
      ],
      "metadata": {
        "id": "EMgxf5DYcdnD",
        "colab": {
          "base_uri": "https://localhost:8080/"
        },
        "outputId": "3d223884-7d1f-4cf2-e0f2-b3bc4c0cc301"
      },
      "execution_count": null,
      "outputs": [
        {
          "output_type": "stream",
          "name": "stdout",
          "text": [
            "\n",
            "String with the use of Double Quotes: \n",
            "I'm an Analyst\n",
            "<class 'str'>\n"
          ]
        }
      ]
    },
    {
      "cell_type": "code",
      "source": [
        "# Creating a String with triple Quotes\n",
        "String1 = '''I'm an Analyst and I live in a world of \"data\"'''\n",
        "print(\"\\nString with the use of Triple Quotes: \")\n",
        "print(String1)\n",
        "print(type(String1))"
      ],
      "metadata": {
        "id": "Wu9U85PnccUG",
        "colab": {
          "base_uri": "https://localhost:8080/"
        },
        "outputId": "f7ff2749-aa9d-4ddc-e0d5-4d077dec106a"
      },
      "execution_count": null,
      "outputs": [
        {
          "output_type": "stream",
          "name": "stdout",
          "text": [
            "\n",
            "String with the use of Triple Quotes: \n",
            "I'm an Analyst and I live in a world of \"data\"\n",
            "<class 'str'>\n"
          ]
        }
      ]
    },
    {
      "cell_type": "code",
      "source": [
        "# Creating String with triple Quotes allows multiple lines\n",
        "String1 = '''Data\n",
        "\t\t\tFor\n",
        "\t\t\tLife'''\n",
        "print(\"\\nCreating a multiline String: \")\n",
        "print(String1)"
      ],
      "metadata": {
        "id": "41DYWsGucayq",
        "colab": {
          "base_uri": "https://localhost:8080/"
        },
        "outputId": "0f4247db-87c2-4186-f71d-7d6679546d5e"
      },
      "execution_count": null,
      "outputs": [
        {
          "output_type": "stream",
          "name": "stdout",
          "text": [
            "\n",
            "Creating a multiline String: \n",
            "Data\n",
            "\t\t\tFor\n",
            "\t\t\tLife\n"
          ]
        }
      ]
    },
    {
      "cell_type": "code",
      "source": [
        "# Access characters of String\n",
        "\n",
        "String1 = \"Data Worlds\"\n",
        "print(\"Initial String: \")\n",
        "print(String1)\n",
        "\n",
        "# Printing First character\n",
        "print(\"\\nFirst character of String is: \")\n",
        "print(String1[0])\n",
        "\n",
        "# Printing Last character\n",
        "print(\"\\nLast character of String is: \")\n",
        "print(String1[-1])"
      ],
      "metadata": {
        "id": "9D_374okctye",
        "colab": {
          "base_uri": "https://localhost:8080/"
        },
        "outputId": "fa8cd6b1-b35e-4739-aa71-46c441c3380b"
      },
      "execution_count": null,
      "outputs": [
        {
          "output_type": "stream",
          "name": "stdout",
          "text": [
            "Initial String: \n",
            "Data Worlds\n",
            "\n",
            "First character of String is: \n",
            "D\n",
            "\n",
            "Last character of String is: \n",
            "s\n"
          ]
        }
      ]
    },
    {
      "cell_type": "markdown",
      "source": [
        "### Lists"
      ],
      "metadata": {
        "id": "oACYEtd-cmsK"
      }
    },
    {
      "cell_type": "code",
      "source": [
        "# Creating a List\n",
        "List = []\n",
        "print(\"Initial blank List: \")\n",
        "print(List)"
      ],
      "metadata": {
        "id": "j3XXTy2Uc2pC",
        "colab": {
          "base_uri": "https://localhost:8080/"
        },
        "outputId": "c260d313-5564-41d9-83e7-efb343ca06f1"
      },
      "execution_count": null,
      "outputs": [
        {
          "output_type": "stream",
          "name": "stdout",
          "text": [
            "Initial blank List: \n",
            "[]\n"
          ]
        }
      ]
    },
    {
      "cell_type": "code",
      "source": [
        "# Creating a List with the use of a String\n",
        "List = ['DataWorlds']\n",
        "print(\"\\nList with the use of String: \")\n",
        "print(List)"
      ],
      "metadata": {
        "id": "SmlV_pl5dDZF",
        "colab": {
          "base_uri": "https://localhost:8080/"
        },
        "outputId": "ef3de00d-0bf2-4534-887c-b8eb0b4db5ed"
      },
      "execution_count": null,
      "outputs": [
        {
          "output_type": "stream",
          "name": "stdout",
          "text": [
            "\n",
            "List with the use of String: \n",
            "['DataWorlds']\n"
          ]
        }
      ]
    },
    {
      "cell_type": "code",
      "source": [
        "# Creating a List with the use of multiple values\n",
        "List = [\"Hello\", \"Worlds\", \"Hello\"]\n",
        "print(\"\\nList containing multiple values: \")\n",
        "print(List[0])\n",
        "print(List[2])"
      ],
      "metadata": {
        "id": "7mNoOA9Kc_-e",
        "colab": {
          "base_uri": "https://localhost:8080/"
        },
        "outputId": "e154c438-f6c7-4f91-9896-a1e69eb65c2b"
      },
      "execution_count": null,
      "outputs": [
        {
          "output_type": "stream",
          "name": "stdout",
          "text": [
            "\n",
            "List containing multiple values: \n",
            "Hello\n",
            "Hello\n"
          ]
        }
      ]
    },
    {
      "cell_type": "code",
      "source": [
        "# Creating a Multi-Dimensional List (By Nesting a list inside a List)\n",
        "List = [['Hello', 'Worlds'], ['Hello']]\n",
        "print(\"\\nMulti-Dimensional List: \")\n",
        "print(List)"
      ],
      "metadata": {
        "id": "1U_5G2-1c7ym",
        "colab": {
          "base_uri": "https://localhost:8080/"
        },
        "outputId": "86a17a01-4d59-4baa-fc4f-b714020fab64"
      },
      "execution_count": null,
      "outputs": [
        {
          "output_type": "stream",
          "name": "stdout",
          "text": [
            "\n",
            "Multi-Dimensional List: \n",
            "[['Hello', 'Worlds'], ['Hello']]\n"
          ]
        }
      ]
    },
    {
      "cell_type": "code",
      "source": [
        "# accessing of element from list\n",
        "\n",
        "# Creating a List with the use of multiple values\n",
        "List = [\"Hello\", \"Worlds\", \"Hi\"]\n",
        "\n",
        "# accessing a element from the list using index number\n",
        "print(\"Accessing element from the list\")\n",
        "print(List[0])\n",
        "print(List[2])\n",
        "\n",
        "# accessing a element using negative indexing\n",
        "print(\"Accessing element using negative indexing\")\n",
        "\n",
        "# print the last element of list\n",
        "print(List[-1])\n",
        "\n",
        "# print the third last element of list\n",
        "print(List[-3])"
      ],
      "metadata": {
        "id": "I-rBAErvdNiG",
        "colab": {
          "base_uri": "https://localhost:8080/"
        },
        "outputId": "a00d8718-ffd0-46d7-8bc2-b666cefa1125"
      },
      "execution_count": null,
      "outputs": [
        {
          "output_type": "stream",
          "name": "stdout",
          "text": [
            "Accessing element from the list\n",
            "Hello\n",
            "Hi\n",
            "Accessing element using negative indexing\n",
            "Hi\n",
            "Hello\n"
          ]
        }
      ]
    },
    {
      "cell_type": "markdown",
      "source": [
        "### Tuple"
      ],
      "metadata": {
        "id": "3U7A2iDPdcFC"
      }
    },
    {
      "cell_type": "code",
      "source": [
        "# Creating an empty tuple\n",
        "Tuple1 = ()\n",
        "print(\"Initial empty Tuple: \")\n",
        "print(Tuple1)"
      ],
      "metadata": {
        "id": "AdYX-L3odbua",
        "colab": {
          "base_uri": "https://localhost:8080/"
        },
        "outputId": "09cc94f5-b6de-4c7c-a625-764fe2f080db"
      },
      "execution_count": null,
      "outputs": [
        {
          "output_type": "stream",
          "name": "stdout",
          "text": [
            "Initial empty Tuple: \n",
            "()\n"
          ]
        }
      ]
    },
    {
      "cell_type": "code",
      "source": [
        "# Creating a Tuple with the use of Strings\n",
        "Tuple1 = ('Datas', 'World')\n",
        "print(\"\\nTuple with the use of String: \")\n",
        "print(Tuple1)"
      ],
      "metadata": {
        "id": "Wdf4Xhgadsgl",
        "colab": {
          "base_uri": "https://localhost:8080/"
        },
        "outputId": "d0283752-f827-4bce-ca57-b6f550cdb2dc"
      },
      "execution_count": null,
      "outputs": [
        {
          "output_type": "stream",
          "name": "stdout",
          "text": [
            "\n",
            "Tuple with the use of String: \n",
            "('Datas', 'World')\n"
          ]
        }
      ]
    },
    {
      "cell_type": "code",
      "source": [
        "# Creating a Tuple with the use of list\n",
        "list1 = [1, 2, 4, 5, 6]\n",
        "print(\"\\nTuple using List: \")\n",
        "print(tuple(list1))"
      ],
      "metadata": {
        "id": "5twaUAoEdrAp",
        "colab": {
          "base_uri": "https://localhost:8080/"
        },
        "outputId": "451d563e-4a8d-436b-c76d-a12a6681a91e"
      },
      "execution_count": null,
      "outputs": [
        {
          "output_type": "stream",
          "name": "stdout",
          "text": [
            "\n",
            "Tuple using List: \n",
            "(1, 2, 4, 5, 6)\n"
          ]
        }
      ]
    },
    {
      "cell_type": "code",
      "source": [
        "# Creating a Tuple with the use of built-in function\n",
        "Tuple1 = tuple('Data')\n",
        "print(\"\\nTuple with the use of function: \")\n",
        "print(Tuple1)"
      ],
      "metadata": {
        "id": "5wsQ3XPcdoXR",
        "colab": {
          "base_uri": "https://localhost:8080/"
        },
        "outputId": "df25b7e8-9b71-46df-9de5-27c0eaebf8f9"
      },
      "execution_count": null,
      "outputs": [
        {
          "output_type": "stream",
          "name": "stdout",
          "text": [
            "\n",
            "Tuple with the use of function: \n",
            "('D', 'a', 't', 'a')\n"
          ]
        }
      ]
    },
    {
      "cell_type": "code",
      "source": [
        "# Creating a Tuple with nested tuples\n",
        "Tuple1 = (0, 1, 2, 3)\n",
        "Tuple2 = ('python', 'data')\n",
        "Tuple3 = (Tuple1, Tuple2)\n",
        "print(\"\\nTuple with nested tuples: \")\n",
        "print(Tuple3)"
      ],
      "metadata": {
        "id": "FFLkzdFVdmTd",
        "colab": {
          "base_uri": "https://localhost:8080/"
        },
        "outputId": "03f8a3b6-21b7-466f-919f-1530ae9a8021"
      },
      "execution_count": null,
      "outputs": [
        {
          "output_type": "stream",
          "name": "stdout",
          "text": [
            "\n",
            "Tuple with nested tuples: \n",
            "((0, 1, 2, 3), ('python', 'data'))\n"
          ]
        }
      ]
    },
    {
      "cell_type": "code",
      "source": [
        "# demonstrate accessing tuple\n",
        "\n",
        "tuple1 = tuple([1, 2, 3, 4, 5])\n",
        "\n",
        "# Accessing element using indexing\n",
        "print(\"First element of tuple\")\n",
        "print(tuple1[0])\n",
        "\n",
        "# Accessing element from last negative indexing\n",
        "print(\"\\nLast element of tuple\")\n",
        "print(tuple1[-1])\n",
        "\n",
        "print(\"\\nThird last element of tuple\")\n",
        "print(tuple1[-3])"
      ],
      "metadata": {
        "id": "IIvqv3gUdw4a",
        "colab": {
          "base_uri": "https://localhost:8080/"
        },
        "outputId": "a95afe9a-b7fb-485a-ffec-006d2cc5c4fc"
      },
      "execution_count": null,
      "outputs": [
        {
          "output_type": "stream",
          "name": "stdout",
          "text": [
            "First element of tuple\n",
            "1\n",
            "\n",
            "Last element of tuple\n",
            "5\n",
            "\n",
            "Third last element of tuple\n",
            "3\n"
          ]
        }
      ]
    },
    {
      "cell_type": "markdown",
      "source": [
        "## Boolean Data Type"
      ],
      "metadata": {
        "id": "g6bEvBaodzxK"
      }
    },
    {
      "cell_type": "code",
      "source": [
        "print(type(True))\n",
        "print(type(False))"
      ],
      "metadata": {
        "id": "_RUXph2_d_HN",
        "colab": {
          "base_uri": "https://localhost:8080/"
        },
        "outputId": "6be2b12c-f57b-4b98-f654-3c7a467d1bf0"
      },
      "execution_count": null,
      "outputs": [
        {
          "output_type": "stream",
          "name": "stdout",
          "text": [
            "<class 'bool'>\n",
            "<class 'bool'>\n"
          ]
        }
      ]
    },
    {
      "cell_type": "markdown",
      "source": [
        "## Set Data Type"
      ],
      "metadata": {
        "id": "jZ2lJbJheDP1"
      }
    },
    {
      "cell_type": "code",
      "source": [
        "# Creating a Set\n",
        "set1 = set()\n",
        "print(\"Initial blank Set: \")\n",
        "print(set1)"
      ],
      "metadata": {
        "id": "Ye6Id96KeG8F",
        "colab": {
          "base_uri": "https://localhost:8080/"
        },
        "outputId": "9c41f595-74c4-46f8-c2e9-d3891f06a27b"
      },
      "execution_count": null,
      "outputs": [
        {
          "output_type": "stream",
          "name": "stdout",
          "text": [
            "Initial blank Set: \n",
            "set()\n"
          ]
        }
      ]
    },
    {
      "cell_type": "code",
      "source": [
        "# Creating a Set with the use of a String\n",
        "set1 = set(\"Hello World\")\n",
        "print(\"\\nSet with the use of String: \")\n",
        "print(set1)"
      ],
      "metadata": {
        "id": "MEYtl7M6-GQ3",
        "colab": {
          "base_uri": "https://localhost:8080/"
        },
        "outputId": "765c5fac-15e3-487a-b671-ff4bcc9ba4d2"
      },
      "execution_count": null,
      "outputs": [
        {
          "output_type": "stream",
          "name": "stdout",
          "text": [
            "\n",
            "Set with the use of String: \n",
            "{'r', 'W', 'l', 'H', 'd', 'o', 'e', ' '}\n"
          ]
        }
      ]
    },
    {
      "cell_type": "code",
      "source": [
        "# Creating a Set with the use of a List\n",
        "set1 = set([\"Hello\", \"World\", \"Data\"])\n",
        "print(\"\\nSet with the use of List: \")\n",
        "print(set1)"
      ],
      "metadata": {
        "id": "XgwTC2-P-CNC",
        "colab": {
          "base_uri": "https://localhost:8080/"
        },
        "outputId": "b71dcc3d-53a5-47d2-e1f7-37ccf94f4ae5"
      },
      "execution_count": null,
      "outputs": [
        {
          "output_type": "stream",
          "name": "stdout",
          "text": [
            "\n",
            "Set with the use of List: \n",
            "{'World', 'Data', 'Hello'}\n"
          ]
        }
      ]
    },
    {
      "cell_type": "code",
      "source": [
        "# Creating a Set with a mixed type of values (Having numbers and strings)\n",
        "set1 = set([1, 2, 'Hello', 4, 'Worlds', 6, 'Data'])\n",
        "print(\"\\nSet with the use of Mixed Values\")\n",
        "print(set1)"
      ],
      "metadata": {
        "id": "iE-XqGW598p7",
        "colab": {
          "base_uri": "https://localhost:8080/"
        },
        "outputId": "793bdfbb-ffd9-40bb-88b4-6f12f47bfaad"
      },
      "execution_count": null,
      "outputs": [
        {
          "output_type": "stream",
          "name": "stdout",
          "text": [
            "\n",
            "Set with the use of Mixed Values\n",
            "{1, 2, 'Hello', 4, 6, 'Data', 'Worlds'}\n"
          ]
        }
      ]
    },
    {
      "cell_type": "code",
      "source": [
        "# Accessing of elements in a set\n",
        "\n",
        "# Creating a set\n",
        "set1 = set([\"Hello\", \"World\", \"Hello\"])\n",
        "print(\"\\nInitial set\")\n",
        "print(set1)\n",
        "\n",
        "# Accessing element using for loop\n",
        "print(\"\\nElements of set: \")\n",
        "for i in set1:\n",
        "\tprint(i, end=\" \")\n",
        "\n",
        "# Checking the element using in keyword\n",
        "print(\"Hello\" in set1)"
      ],
      "metadata": {
        "id": "4WEOJ5jJ-Yii",
        "colab": {
          "base_uri": "https://localhost:8080/"
        },
        "outputId": "ffd0b840-b6db-407f-c745-512b2356a411"
      },
      "execution_count": null,
      "outputs": [
        {
          "output_type": "stream",
          "name": "stdout",
          "text": [
            "\n",
            "Initial set\n",
            "{'World', 'Hello'}\n",
            "\n",
            "Elements of set: \n",
            "World Hello True\n"
          ]
        }
      ]
    },
    {
      "cell_type": "markdown",
      "source": [
        "## Dictionary Data Type"
      ],
      "metadata": {
        "id": "5aQRN23D-pzp"
      }
    },
    {
      "cell_type": "code",
      "source": [
        "# Creating an empty Dictionary\n",
        "Dict = {}\n",
        "print(\"Empty Dictionary: \")\n",
        "print(Dict)"
      ],
      "metadata": {
        "id": "7xw1Wez1-enX",
        "colab": {
          "base_uri": "https://localhost:8080/"
        },
        "outputId": "8ac259c5-c2e0-4fcd-cf27-0ae8a1c8fc49"
      },
      "execution_count": null,
      "outputs": [
        {
          "output_type": "stream",
          "name": "stdout",
          "text": [
            "Empty Dictionary: \n",
            "{}\n"
          ]
        }
      ]
    },
    {
      "cell_type": "code",
      "source": [
        "# Creating a Dictionary with Integer Keys\n",
        "Dict = {1: 'Hello', 2: 'World', 3: 'Data'}\n",
        "print(\"\\nDictionary with the use of Integer Keys: \")\n",
        "print(Dict)"
      ],
      "metadata": {
        "id": "7YtVaQ-J_IY0",
        "colab": {
          "base_uri": "https://localhost:8080/"
        },
        "outputId": "2fe4e61e-40f1-4a44-e96b-0c30fca2a3f3"
      },
      "execution_count": null,
      "outputs": [
        {
          "output_type": "stream",
          "name": "stdout",
          "text": [
            "\n",
            "Dictionary with the use of Integer Keys: \n",
            "{1: 'Hello', 2: 'World', 3: 'Data'}\n"
          ]
        }
      ]
    },
    {
      "cell_type": "code",
      "source": [
        "# Creating a Dictionary with Mixed keys\n",
        "Dict = {'Name': 'Hello', 1: [1, 2, 3, 4]}\n",
        "print(\"\\nDictionary with the use of Mixed Keys: \")\n",
        "print(Dict)"
      ],
      "metadata": {
        "id": "7dvIMYWc_G5R",
        "colab": {
          "base_uri": "https://localhost:8080/"
        },
        "outputId": "1117cc00-1dca-45cd-d398-1d01e45e5bff"
      },
      "execution_count": null,
      "outputs": [
        {
          "output_type": "stream",
          "name": "stdout",
          "text": [
            "\n",
            "Dictionary with the use of Mixed Keys: \n",
            "{'Name': 'Hello', 1: [1, 2, 3, 4]}\n"
          ]
        }
      ]
    },
    {
      "cell_type": "code",
      "source": [
        "# Creating a Dictionary with dict() method\n",
        "Dict = dict({1: 'Hello', 2: 'World', 3: 'Data'})\n",
        "print(\"\\nDictionary with the use of dict(): \")\n",
        "print(Dict)"
      ],
      "metadata": {
        "id": "r5vYFlw0_Fkb",
        "colab": {
          "base_uri": "https://localhost:8080/"
        },
        "outputId": "cd4c92c1-717a-420f-dba6-d3c96b64c8fe"
      },
      "execution_count": null,
      "outputs": [
        {
          "output_type": "stream",
          "name": "stdout",
          "text": [
            "\n",
            "Dictionary with the use of dict(): \n",
            "{1: 'Hello', 2: 'World', 3: 'Data'}\n"
          ]
        }
      ]
    },
    {
      "cell_type": "code",
      "source": [
        "# Creating a Dictionary with each item as a Pair\n",
        "Dict = dict([(1, 'Hello'), (2, 'World')])\n",
        "print(\"\\nDictionary with each item as a pair: \")\n",
        "print(Dict)"
      ],
      "metadata": {
        "id": "urbhtU1g_Df6",
        "colab": {
          "base_uri": "https://localhost:8080/"
        },
        "outputId": "fb54ae63-856a-4944-ca5b-70f4247c256c"
      },
      "execution_count": null,
      "outputs": [
        {
          "output_type": "stream",
          "name": "stdout",
          "text": [
            "\n",
            "Dictionary with each item as a pair: \n",
            "{1: 'Hello', 2: 'World'}\n"
          ]
        }
      ]
    },
    {
      "cell_type": "code",
      "source": [
        "# accessing an element from a Dictionary\n",
        "\n",
        "# Creating a Dictionary\n",
        "Dict = {1: 'Hello', 'name': 'World', 3: 'Data'}\n",
        "\n",
        "# accessing a element using key\n",
        "print(\"Accessing a element using key:\")\n",
        "print(Dict['name'])\n",
        "\n",
        "# accessing a element using get() method\n",
        "print(\"Accessing a element using get:\")\n",
        "print(Dict.get(3))"
      ],
      "metadata": {
        "id": "9udFNSHp_M7_",
        "colab": {
          "base_uri": "https://localhost:8080/"
        },
        "outputId": "a56d4897-4372-41c7-920a-929333226c30"
      },
      "execution_count": null,
      "outputs": [
        {
          "output_type": "stream",
          "name": "stdout",
          "text": [
            "Accessing a element using key:\n",
            "World\n",
            "Accessing a element using get:\n",
            "Data\n"
          ]
        }
      ]
    },
    {
      "cell_type": "markdown",
      "source": [
        "# Python Operators"
      ],
      "metadata": {
        "id": "SYLj2GdqMsyU"
      }
    },
    {
      "cell_type": "markdown",
      "source": [
        "## Arithmetic Operators"
      ],
      "metadata": {
        "id": "BJlKZY_3wVzJ"
      }
    },
    {
      "cell_type": "code",
      "source": [
        "# Examples of Arithmetic Operator\n",
        "a = 9\n",
        "b = 4\n",
        "\n",
        "# Addition of numbers\n",
        "add = a + b\n",
        "\n",
        "# Subtraction of numbers\n",
        "sub = a - b\n",
        "\n",
        "# Multiplication of number\n",
        "mul = a * b\n",
        "\n",
        "# Modulo of both number\n",
        "mod = a % b\n",
        "\n",
        "# Power\n",
        "p = a ** b\n",
        "\n",
        "# print results\n",
        "print(add)\n",
        "print(sub)\n",
        "print(mul)\n",
        "print(mod)\n",
        "print(p)"
      ],
      "metadata": {
        "id": "ml0TqG3jnRY8",
        "colab": {
          "base_uri": "https://localhost:8080/"
        },
        "outputId": "a655317c-7b0a-4dee-a59e-d1530ed7d276"
      },
      "execution_count": null,
      "outputs": [
        {
          "output_type": "stream",
          "name": "stdout",
          "text": [
            "13\n",
            "5\n",
            "36\n",
            "1\n",
            "6561\n"
          ]
        }
      ]
    },
    {
      "cell_type": "markdown",
      "source": [
        "## Comparison Operators"
      ],
      "metadata": {
        "id": "Cu5X0I0ywXbh"
      }
    },
    {
      "cell_type": "code",
      "source": [
        "# Examples of Relational Operators\n",
        "a = 13\n",
        "b = 33"
      ],
      "metadata": {
        "id": "ewVBtLUkwcA3"
      },
      "execution_count": null,
      "outputs": []
    },
    {
      "cell_type": "code",
      "source": [
        "# a > b is False\n",
        "print(a > b)"
      ],
      "metadata": {
        "id": "2edQyi5gzdft",
        "colab": {
          "base_uri": "https://localhost:8080/"
        },
        "outputId": "6c559d63-7596-4b4a-d568-34ecdfbcd9ad"
      },
      "execution_count": null,
      "outputs": [
        {
          "output_type": "stream",
          "name": "stdout",
          "text": [
            "False\n"
          ]
        }
      ]
    },
    {
      "cell_type": "code",
      "source": [
        "# a < b is True\n",
        "print(a < b)"
      ],
      "metadata": {
        "id": "oXIP3SA6zcj2",
        "colab": {
          "base_uri": "https://localhost:8080/"
        },
        "outputId": "66aef096-ce1f-4004-a8eb-b0ea2372d5ba"
      },
      "execution_count": null,
      "outputs": [
        {
          "output_type": "stream",
          "name": "stdout",
          "text": [
            "True\n"
          ]
        }
      ]
    },
    {
      "cell_type": "code",
      "source": [
        "# a == b is False\n",
        "print(a == b)"
      ],
      "metadata": {
        "id": "QikCkJMxzbfm",
        "colab": {
          "base_uri": "https://localhost:8080/"
        },
        "outputId": "edf5c0fa-090f-46ad-8bef-b2a154834d1d"
      },
      "execution_count": null,
      "outputs": [
        {
          "output_type": "stream",
          "name": "stdout",
          "text": [
            "False\n"
          ]
        }
      ]
    },
    {
      "cell_type": "code",
      "source": [
        "# a != b is True\n",
        "print(a != b)"
      ],
      "metadata": {
        "id": "eI8akt28zZnt",
        "colab": {
          "base_uri": "https://localhost:8080/"
        },
        "outputId": "76c695c2-646c-4d53-c190-044b561ea18a"
      },
      "execution_count": null,
      "outputs": [
        {
          "output_type": "stream",
          "name": "stdout",
          "text": [
            "True\n"
          ]
        }
      ]
    },
    {
      "cell_type": "code",
      "source": [
        "# a >= b is False\n",
        "print(a >= b)"
      ],
      "metadata": {
        "id": "pM1LQIlgzYfN",
        "colab": {
          "base_uri": "https://localhost:8080/"
        },
        "outputId": "6898d677-5b06-415f-e16f-22f7820b2ffe"
      },
      "execution_count": null,
      "outputs": [
        {
          "output_type": "stream",
          "name": "stdout",
          "text": [
            "False\n"
          ]
        }
      ]
    },
    {
      "cell_type": "code",
      "source": [
        "# a <= b is True\n",
        "print(a <= b)"
      ],
      "metadata": {
        "id": "Bas52UGczXXm",
        "colab": {
          "base_uri": "https://localhost:8080/"
        },
        "outputId": "cee4494f-7dbd-4331-a910-c90d4759f69e"
      },
      "execution_count": null,
      "outputs": [
        {
          "output_type": "stream",
          "name": "stdout",
          "text": [
            "True\n"
          ]
        }
      ]
    },
    {
      "cell_type": "markdown",
      "source": [
        "## Logical Operators"
      ],
      "metadata": {
        "id": "4dh2ANkGwcLg"
      }
    },
    {
      "cell_type": "code",
      "source": [
        "# Examples of Logical Operator\n",
        "a = True\n",
        "b = False"
      ],
      "metadata": {
        "id": "ZKShHCx5wmnc"
      },
      "execution_count": null,
      "outputs": []
    },
    {
      "cell_type": "code",
      "source": [
        "# Print a and b is False\n",
        "print(a and b)"
      ],
      "metadata": {
        "id": "zzENSpYRzV5K",
        "colab": {
          "base_uri": "https://localhost:8080/"
        },
        "outputId": "d12312c3-5097-474c-c62c-6ac4fde94b30"
      },
      "execution_count": null,
      "outputs": [
        {
          "output_type": "stream",
          "name": "stdout",
          "text": [
            "False\n"
          ]
        }
      ]
    },
    {
      "cell_type": "code",
      "source": [
        "# Print a or b is True\n",
        "print(a or b)"
      ],
      "metadata": {
        "id": "FGxNwxqlzUwG",
        "colab": {
          "base_uri": "https://localhost:8080/"
        },
        "outputId": "f00672cf-c1d0-4fdc-83e0-4eef16d9ff16"
      },
      "execution_count": null,
      "outputs": [
        {
          "output_type": "stream",
          "name": "stdout",
          "text": [
            "True\n"
          ]
        }
      ]
    },
    {
      "cell_type": "code",
      "source": [
        "# Print not a is False\n",
        "print(not a)"
      ],
      "metadata": {
        "id": "-eqFpNlozTxN",
        "colab": {
          "base_uri": "https://localhost:8080/"
        },
        "outputId": "795bc014-c658-45dc-c1e6-e1a9fa84d190"
      },
      "execution_count": null,
      "outputs": [
        {
          "output_type": "stream",
          "name": "stdout",
          "text": [
            "False\n"
          ]
        }
      ]
    },
    {
      "cell_type": "markdown",
      "source": [
        "## Bitwise Operators"
      ],
      "metadata": {
        "id": "nZtv3FPWwd_F"
      }
    },
    {
      "cell_type": "code",
      "source": [
        "# Examples of Bitwise operators\n",
        "a = 10\n",
        "b = 4"
      ],
      "metadata": {
        "id": "FgnhE3URwnGj"
      },
      "execution_count": null,
      "outputs": []
    },
    {
      "cell_type": "code",
      "source": [
        "# Print bitwise AND operation\n",
        "print(a & b)"
      ],
      "metadata": {
        "id": "7aIslVUnzQp8",
        "colab": {
          "base_uri": "https://localhost:8080/"
        },
        "outputId": "8fc42be2-ca56-47b6-e7f7-21b98c42ef95"
      },
      "execution_count": null,
      "outputs": [
        {
          "output_type": "stream",
          "name": "stdout",
          "text": [
            "0\n"
          ]
        }
      ]
    },
    {
      "cell_type": "code",
      "source": [
        "# Print bitwise OR operation\n",
        "print(a | b)"
      ],
      "metadata": {
        "id": "W74QddrozPfg",
        "colab": {
          "base_uri": "https://localhost:8080/"
        },
        "outputId": "2d5b78e9-a8a7-4239-fdf7-f8779f7ff93f"
      },
      "execution_count": null,
      "outputs": [
        {
          "output_type": "stream",
          "name": "stdout",
          "text": [
            "14\n"
          ]
        }
      ]
    },
    {
      "cell_type": "code",
      "source": [
        "# Print bitwise NOT operation\n",
        "print(~a)"
      ],
      "metadata": {
        "id": "3lPqBGO_zOY6",
        "colab": {
          "base_uri": "https://localhost:8080/"
        },
        "outputId": "9292bd7d-3fee-422b-d4b1-72e0e8a4f6ef"
      },
      "execution_count": null,
      "outputs": [
        {
          "output_type": "stream",
          "name": "stdout",
          "text": [
            "-11\n"
          ]
        }
      ]
    },
    {
      "cell_type": "code",
      "source": [
        "# print bitwise XOR operation\n",
        "print(a ^ b)"
      ],
      "metadata": {
        "id": "UQqDth7RzNEK",
        "colab": {
          "base_uri": "https://localhost:8080/"
        },
        "outputId": "6834ff4b-0d83-4dcd-fd82-bc6a642654f8"
      },
      "execution_count": null,
      "outputs": [
        {
          "output_type": "stream",
          "name": "stdout",
          "text": [
            "14\n"
          ]
        }
      ]
    },
    {
      "cell_type": "code",
      "source": [
        "# print bitwise right shift operation\n",
        "print(a >> 2)"
      ],
      "metadata": {
        "id": "yqa3szPNzLja",
        "colab": {
          "base_uri": "https://localhost:8080/"
        },
        "outputId": "e092a7e9-c5d2-45b3-fa2a-f63db88a85b7"
      },
      "execution_count": null,
      "outputs": [
        {
          "output_type": "stream",
          "name": "stdout",
          "text": [
            "2\n"
          ]
        }
      ]
    },
    {
      "cell_type": "code",
      "source": [
        "# print bitwise left shift operation\n",
        "print(a << 2)"
      ],
      "metadata": {
        "id": "eBHIQmxSzKmi",
        "colab": {
          "base_uri": "https://localhost:8080/"
        },
        "outputId": "5fc4d389-f4fd-4885-ff90-3f0876475fc1"
      },
      "execution_count": null,
      "outputs": [
        {
          "output_type": "stream",
          "name": "stdout",
          "text": [
            "40\n"
          ]
        }
      ]
    },
    {
      "cell_type": "markdown",
      "source": [
        "## Assignment Operators"
      ],
      "metadata": {
        "id": "MlYh7NEnwgOr"
      }
    },
    {
      "cell_type": "code",
      "source": [
        "# Examples of Assignment Operators\n",
        "a = 10"
      ],
      "metadata": {
        "id": "5spQYlvswndr"
      },
      "execution_count": null,
      "outputs": []
    },
    {
      "cell_type": "code",
      "source": [
        "# Assign value\n",
        "b = a\n",
        "print(b)"
      ],
      "metadata": {
        "id": "T_2xfSg1zItJ",
        "colab": {
          "base_uri": "https://localhost:8080/"
        },
        "outputId": "3fd04165-0c80-438d-8709-b37766833d8e"
      },
      "execution_count": null,
      "outputs": [
        {
          "output_type": "stream",
          "name": "stdout",
          "text": [
            "10\n"
          ]
        }
      ]
    },
    {
      "cell_type": "code",
      "source": [
        "# Add and assign value\n",
        "b += a\n",
        "print(b)"
      ],
      "metadata": {
        "id": "7xc3vvLYzGx8",
        "colab": {
          "base_uri": "https://localhost:8080/"
        },
        "outputId": "02267e04-b116-40e9-8caa-a33517fe29be"
      },
      "execution_count": null,
      "outputs": [
        {
          "output_type": "stream",
          "name": "stdout",
          "text": [
            "20\n"
          ]
        }
      ]
    },
    {
      "cell_type": "code",
      "source": [
        "# Subtract and assign value\n",
        "b -= a\n",
        "print(b)"
      ],
      "metadata": {
        "id": "ZCTAk0E6zFpz",
        "colab": {
          "base_uri": "https://localhost:8080/"
        },
        "outputId": "611718ac-7009-404a-eb0f-5a9151ef4455"
      },
      "execution_count": null,
      "outputs": [
        {
          "output_type": "stream",
          "name": "stdout",
          "text": [
            "10\n"
          ]
        }
      ]
    },
    {
      "cell_type": "code",
      "source": [
        "# multiply and assign\n",
        "b *= a\n",
        "print(b)"
      ],
      "metadata": {
        "id": "Ssudc1X3zEly",
        "colab": {
          "base_uri": "https://localhost:8080/"
        },
        "outputId": "c4843e63-0b92-459b-9fa5-f294d4601ed4"
      },
      "execution_count": null,
      "outputs": [
        {
          "output_type": "stream",
          "name": "stdout",
          "text": [
            "100\n"
          ]
        }
      ]
    },
    {
      "cell_type": "code",
      "source": [
        "# bitwise lishift operator\n",
        "b <<= a\n",
        "print(b)"
      ],
      "metadata": {
        "id": "zKJMQYENzDYi",
        "colab": {
          "base_uri": "https://localhost:8080/"
        },
        "outputId": "f8e60024-9718-48bb-9581-209bf2b323cf"
      },
      "execution_count": null,
      "outputs": [
        {
          "output_type": "stream",
          "name": "stdout",
          "text": [
            "102400\n"
          ]
        }
      ]
    },
    {
      "cell_type": "markdown",
      "source": [
        "# Python Control Flows"
      ],
      "metadata": {
        "id": "yZrEbmNivr79"
      }
    },
    {
      "cell_type": "markdown",
      "source": [
        "## Selection / Decision"
      ],
      "metadata": {
        "id": "gUgIsl5hx-Oc"
      }
    },
    {
      "cell_type": "markdown",
      "source": [
        "### If - Else"
      ],
      "metadata": {
        "id": "HJMymcgvyBED"
      }
    },
    {
      "cell_type": "code",
      "source": [
        "x = 10\n",
        "if x > 5:\n",
        "    print(\"x is greater than 5\")\n",
        "else:\n",
        "    print(\"x is not greater than 5\")"
      ],
      "metadata": {
        "id": "kYued1uxvt2F",
        "colab": {
          "base_uri": "https://localhost:8080/"
        },
        "outputId": "c99d7855-29fe-44a3-ea2b-d22c181a315a"
      },
      "execution_count": null,
      "outputs": [
        {
          "output_type": "stream",
          "name": "stdout",
          "text": [
            "x is greater than 5\n"
          ]
        }
      ]
    },
    {
      "cell_type": "markdown",
      "source": [
        "### Elif"
      ],
      "metadata": {
        "id": "JsmjCjxlyHDr"
      }
    },
    {
      "cell_type": "code",
      "source": [
        "x = 10\n",
        "if x > 10:\n",
        "    print(\"x is greater than 10\")\n",
        "elif x == 10:\n",
        "    print(\"x is equal to 10\")\n",
        "else:\n",
        "    print(\"x is less than 10\")"
      ],
      "metadata": {
        "id": "7bOVjO6_yIUD",
        "colab": {
          "base_uri": "https://localhost:8080/"
        },
        "outputId": "f34928ee-1ce3-4c14-e4d0-ae3b2cbc00d7"
      },
      "execution_count": null,
      "outputs": [
        {
          "output_type": "stream",
          "name": "stdout",
          "text": [
            "x is equal to 10\n"
          ]
        }
      ]
    },
    {
      "cell_type": "markdown",
      "source": [
        "## Repetition"
      ],
      "metadata": {
        "id": "L9aI5iDlyQNK"
      }
    },
    {
      "cell_type": "markdown",
      "source": [
        "### For Loop"
      ],
      "metadata": {
        "id": "KNOIYyzNyR9e"
      }
    },
    {
      "cell_type": "code",
      "source": [
        "fruits = [\"apple\", \"banana\", \"orange\"]\n",
        "for fruit in fruits:\n",
        "    print(fruit)"
      ],
      "metadata": {
        "id": "YWPpjREKyRfL",
        "colab": {
          "base_uri": "https://localhost:8080/"
        },
        "outputId": "c42020d0-3f59-4526-d11d-ca095c673975"
      },
      "execution_count": null,
      "outputs": [
        {
          "output_type": "stream",
          "name": "stdout",
          "text": [
            "apple\n",
            "banana\n",
            "orange\n"
          ]
        }
      ]
    },
    {
      "cell_type": "markdown",
      "source": [
        "### While Loop"
      ],
      "metadata": {
        "id": "riKhQjoOyWBz"
      }
    },
    {
      "cell_type": "code",
      "source": [
        "count = 0\n",
        "while count < 5:\n",
        "    print(count)\n",
        "    count += 1"
      ],
      "metadata": {
        "id": "rFg4Es3FyXTD",
        "colab": {
          "base_uri": "https://localhost:8080/"
        },
        "outputId": "4e10815d-6662-481a-ddb5-80357a5405d5"
      },
      "execution_count": null,
      "outputs": [
        {
          "output_type": "stream",
          "name": "stdout",
          "text": [
            "0\n",
            "1\n",
            "2\n",
            "3\n",
            "4\n"
          ]
        }
      ]
    },
    {
      "cell_type": "markdown",
      "source": [
        "### Break Statement"
      ],
      "metadata": {
        "id": "zAuQXXyZyYzg"
      }
    },
    {
      "cell_type": "code",
      "source": [
        "for num in range(10):\n",
        "    if num == 5:\n",
        "        break\n",
        "    print(num)"
      ],
      "metadata": {
        "id": "qDCuHbMqybSH",
        "colab": {
          "base_uri": "https://localhost:8080/"
        },
        "outputId": "adeacdad-129e-41f7-9bb6-12d3a26870db"
      },
      "execution_count": null,
      "outputs": [
        {
          "output_type": "stream",
          "name": "stdout",
          "text": [
            "0\n",
            "1\n",
            "2\n",
            "3\n",
            "4\n"
          ]
        }
      ]
    },
    {
      "cell_type": "markdown",
      "source": [
        "### Continue Statement"
      ],
      "metadata": {
        "id": "Ac2tQF5WydJH"
      }
    },
    {
      "cell_type": "code",
      "source": [
        "for num in range(10):\n",
        "    if num == 5:\n",
        "        continue\n",
        "    print(num)"
      ],
      "metadata": {
        "id": "PEoddULPyfRK",
        "colab": {
          "base_uri": "https://localhost:8080/"
        },
        "outputId": "cf34d7c2-5686-44ad-b04c-8cb6919aa2d8"
      },
      "execution_count": null,
      "outputs": [
        {
          "output_type": "stream",
          "name": "stdout",
          "text": [
            "0\n",
            "1\n",
            "2\n",
            "3\n",
            "4\n",
            "6\n",
            "7\n",
            "8\n",
            "9\n"
          ]
        }
      ]
    },
    {
      "cell_type": "markdown",
      "source": [
        "# Python Function"
      ],
      "metadata": {
        "id": "zx_km0a2nW60"
      }
    },
    {
      "cell_type": "code",
      "source": [
        "# Function Example\n",
        "\n",
        "def add_numbers(a, b):\n",
        "    result = a + b\n",
        "    return result"
      ],
      "metadata": {
        "id": "uJcl1rrZnb1p"
      },
      "execution_count": null,
      "outputs": []
    },
    {
      "cell_type": "code",
      "source": [
        "# Calling a Function\n",
        "result1 = add_numbers(5, 3)\n",
        "print(result1)  # Output: 8"
      ],
      "metadata": {
        "id": "2NouDkhGnkhw",
        "colab": {
          "base_uri": "https://localhost:8080/"
        },
        "outputId": "41459eb5-c7b9-4575-9f36-30ec42760375"
      },
      "execution_count": null,
      "outputs": [
        {
          "output_type": "stream",
          "name": "stdout",
          "text": [
            "8\n"
          ]
        }
      ]
    },
    {
      "cell_type": "markdown",
      "source": [
        "# Python File Handling"
      ],
      "metadata": {
        "id": "tyohLro1sVGg"
      }
    },
    {
      "cell_type": "markdown",
      "source": [
        "## Write File"
      ],
      "metadata": {
        "id": "ewZ71wr5ts2H"
      }
    },
    {
      "cell_type": "code",
      "source": [
        "file = open(\"example.txt\", \"w\")  # Opens the file in write mode\n",
        "file.write(\"Hello, World!\")  # Writes the data to the file\n",
        "file.close()  # Closes the file"
      ],
      "metadata": {
        "id": "t2MfmmBdscHJ"
      },
      "execution_count": null,
      "outputs": []
    },
    {
      "cell_type": "code",
      "source": [
        "# Python code to illustrate with() alongwith write()\n",
        "with open(\"example2.txt\", \"w\") as f:\n",
        "\tf.write(\"Hello World!!!\")"
      ],
      "metadata": {
        "id": "_GEZQzv7t6yf"
      },
      "execution_count": null,
      "outputs": []
    },
    {
      "cell_type": "markdown",
      "source": [
        "## Read File"
      ],
      "metadata": {
        "id": "fGED7uT8uCEM"
      }
    },
    {
      "cell_type": "code",
      "source": [
        "file = open(\"example.txt\", \"r\")  # Opens the file in read mode\n",
        "content = file.read()  # Reads the entire content of the file\n",
        "line = file.readline()  # Reads one line from the file"
      ],
      "metadata": {
        "id": "AFtGazZlsWwc"
      },
      "execution_count": null,
      "outputs": []
    },
    {
      "cell_type": "code",
      "source": [
        "print(content)"
      ],
      "metadata": {
        "id": "o18YwkMosbWz",
        "colab": {
          "base_uri": "https://localhost:8080/"
        },
        "outputId": "adfb58d7-97e7-41e3-952b-69b5c22d48d3"
      },
      "execution_count": null,
      "outputs": [
        {
          "output_type": "stream",
          "name": "stdout",
          "text": [
            "Hello, World!\n"
          ]
        }
      ]
    },
    {
      "cell_type": "code",
      "source": [
        "print(line)"
      ],
      "metadata": {
        "id": "uwTRtYnhuo0a",
        "colab": {
          "base_uri": "https://localhost:8080/"
        },
        "outputId": "c3a2929b-9c17-40b2-bd15-9e78405297c5"
      },
      "execution_count": null,
      "outputs": [
        {
          "output_type": "stream",
          "name": "stdout",
          "text": [
            "\n"
          ]
        }
      ]
    },
    {
      "cell_type": "code",
      "source": [
        "# Python code to illustrate with() alongwith read()\n",
        "with open(\"example2.txt\", 'r') as f:\n",
        "    contents = f.read()\n",
        "    print(contents)"
      ],
      "metadata": {
        "id": "MVOy6pRKuz8U",
        "colab": {
          "base_uri": "https://localhost:8080/"
        },
        "outputId": "1a43d282-b8e1-418d-e062-0a0efafe0e4e"
      },
      "execution_count": null,
      "outputs": [
        {
          "output_type": "stream",
          "name": "stdout",
          "text": [
            "Hello World!!!\n"
          ]
        }
      ]
    },
    {
      "cell_type": "markdown",
      "source": [
        "## Append"
      ],
      "metadata": {
        "id": "EvRzbnqluECS"
      }
    },
    {
      "cell_type": "code",
      "source": [
        "# Python code to illustrate append() mode\n",
        "\n",
        "file = open('example.txt', 'a') # Opens the file in append mode\n",
        "file.write(\"This will add this line\") # Writes the data to the file\n",
        "file.close() # Closes the file"
      ],
      "metadata": {
        "id": "-Llmy2ORsd77"
      },
      "execution_count": null,
      "outputs": []
    },
    {
      "cell_type": "code",
      "source": [
        "# Python code to illustrate with() alongwith append()\n",
        "with open(\"example2.txt\", \"a\") as f:\n",
        "\tf.write(\"This will add this line\")"
      ],
      "metadata": {
        "id": "upFC5bGquSlq"
      },
      "execution_count": null,
      "outputs": []
    },
    {
      "cell_type": "markdown",
      "source": [
        "## X Mode"
      ],
      "metadata": {
        "id": "UEnpIKRSsrvT"
      }
    },
    {
      "cell_type": "code",
      "source": [
        "try:\n",
        "    with open(\"new_file.txt\", \"x\") as file:\n",
        "        file.write(\"This is a new file.\")\n",
        "except FileExistsError:\n",
        "    print(\"The file already exists.\")"
      ],
      "metadata": {
        "colab": {
          "base_uri": "https://localhost:8080/"
        },
        "id": "heYt9fE3st9I",
        "outputId": "cc499716-5afc-4e59-c209-4fa26c305d7c"
      },
      "execution_count": null,
      "outputs": [
        {
          "output_type": "stream",
          "name": "stdout",
          "text": [
            "The file already exists.\n"
          ]
        }
      ]
    },
    {
      "cell_type": "markdown",
      "source": [
        "# Python Error Handling"
      ],
      "metadata": {
        "id": "gQTNqavKm-b4"
      }
    },
    {
      "cell_type": "markdown",
      "source": [
        "## Syntax Error Example"
      ],
      "metadata": {
        "id": "easxGdLfpuMC"
      }
    },
    {
      "cell_type": "code",
      "source": [
        "# initialize the amount variable\n",
        "amount = 10000\n",
        "\n",
        "# check that You are eligible to purchase Dsa Self Paced or not\n",
        "if(amount > 2999)\n",
        "print(\"You are eligible to purchase Dsa Self Paced\")"
      ],
      "metadata": {
        "colab": {
          "base_uri": "https://localhost:8080/",
          "height": 131
        },
        "id": "CPxiLRTEnD8_",
        "outputId": "00d18831-7745-447d-f8d3-8845c718a575"
      },
      "execution_count": null,
      "outputs": [
        {
          "output_type": "error",
          "ename": "SyntaxError",
          "evalue": "ignored",
          "traceback": [
            "\u001b[0;36m  File \u001b[0;32m\"<ipython-input-63-dc795d559a01>\"\u001b[0;36m, line \u001b[0;32m5\u001b[0m\n\u001b[0;31m    if(amount > 2999)\u001b[0m\n\u001b[0m                     ^\u001b[0m\n\u001b[0;31mSyntaxError\u001b[0m\u001b[0;31m:\u001b[0m expected ':'\n"
          ]
        }
      ]
    },
    {
      "cell_type": "markdown",
      "source": [
        "## ZeroDivisionError Example"
      ],
      "metadata": {
        "id": "zPAxUIB_p-59"
      }
    },
    {
      "cell_type": "code",
      "source": [
        "# initialize the amount variable\n",
        "marks = 10000\n",
        "\n",
        "# perform division with 0\n",
        "a = marks / 0\n",
        "print(a)\n"
      ],
      "metadata": {
        "id": "ODG0-F3Xp-g2",
        "colab": {
          "base_uri": "https://localhost:8080/",
          "height": 218
        },
        "outputId": "712d1dee-40ef-42e2-abc9-03d361cb8e4a"
      },
      "execution_count": null,
      "outputs": [
        {
          "output_type": "error",
          "ename": "ZeroDivisionError",
          "evalue": "ignored",
          "traceback": [
            "\u001b[0;31m---------------------------------------------------------------------------\u001b[0m",
            "\u001b[0;31mZeroDivisionError\u001b[0m                         Traceback (most recent call last)",
            "\u001b[0;32m<ipython-input-64-5f312778a383>\u001b[0m in \u001b[0;36m<cell line: 5>\u001b[0;34m()\u001b[0m\n\u001b[1;32m      3\u001b[0m \u001b[0;34m\u001b[0m\u001b[0m\n\u001b[1;32m      4\u001b[0m \u001b[0;31m# perform division with 0\u001b[0m\u001b[0;34m\u001b[0m\u001b[0;34m\u001b[0m\u001b[0m\n\u001b[0;32m----> 5\u001b[0;31m \u001b[0ma\u001b[0m \u001b[0;34m=\u001b[0m \u001b[0mmarks\u001b[0m \u001b[0;34m/\u001b[0m \u001b[0;36m0\u001b[0m\u001b[0;34m\u001b[0m\u001b[0;34m\u001b[0m\u001b[0m\n\u001b[0m\u001b[1;32m      6\u001b[0m \u001b[0mprint\u001b[0m\u001b[0;34m(\u001b[0m\u001b[0ma\u001b[0m\u001b[0;34m)\u001b[0m\u001b[0;34m\u001b[0m\u001b[0;34m\u001b[0m\u001b[0m\n",
            "\u001b[0;31mZeroDivisionError\u001b[0m: division by zero"
          ]
        }
      ]
    },
    {
      "cell_type": "markdown",
      "source": [
        "## Type Error Example"
      ],
      "metadata": {
        "id": "AsaYQWE1pxr5"
      }
    },
    {
      "cell_type": "code",
      "source": [
        "x = 5\n",
        "y = \"hello\"\n",
        "z = x + y # Raises a TypeError: unsupported operand type(s) for +: 'int' and 'str'"
      ],
      "metadata": {
        "id": "8CmpRdrEp3ru",
        "colab": {
          "base_uri": "https://localhost:8080/",
          "height": 201
        },
        "outputId": "97dc67df-1bdc-4397-baea-e06724b34dd5"
      },
      "execution_count": null,
      "outputs": [
        {
          "output_type": "error",
          "ename": "TypeError",
          "evalue": "ignored",
          "traceback": [
            "\u001b[0;31m---------------------------------------------------------------------------\u001b[0m",
            "\u001b[0;31mTypeError\u001b[0m                                 Traceback (most recent call last)",
            "\u001b[0;32m<ipython-input-65-d6c146f786ff>\u001b[0m in \u001b[0;36m<cell line: 3>\u001b[0;34m()\u001b[0m\n\u001b[1;32m      1\u001b[0m \u001b[0mx\u001b[0m \u001b[0;34m=\u001b[0m \u001b[0;36m5\u001b[0m\u001b[0;34m\u001b[0m\u001b[0;34m\u001b[0m\u001b[0m\n\u001b[1;32m      2\u001b[0m \u001b[0my\u001b[0m \u001b[0;34m=\u001b[0m \u001b[0;34m\"hello\"\u001b[0m\u001b[0;34m\u001b[0m\u001b[0;34m\u001b[0m\u001b[0m\n\u001b[0;32m----> 3\u001b[0;31m \u001b[0mz\u001b[0m \u001b[0;34m=\u001b[0m \u001b[0mx\u001b[0m \u001b[0;34m+\u001b[0m \u001b[0my\u001b[0m \u001b[0;31m# Raises a TypeError: unsupported operand type(s) for +: 'int' and 'str'\u001b[0m\u001b[0;34m\u001b[0m\u001b[0;34m\u001b[0m\u001b[0m\n\u001b[0m",
            "\u001b[0;31mTypeError\u001b[0m: unsupported operand type(s) for +: 'int' and 'str'"
          ]
        }
      ]
    },
    {
      "cell_type": "markdown",
      "source": [
        "## How to Resolve The Error"
      ],
      "metadata": {
        "id": "EMW46QVrp5k3"
      }
    },
    {
      "cell_type": "code",
      "source": [
        "x = 5\n",
        "y = \"hello\"\n",
        "try:\n",
        "\tz = x + y\n",
        "except TypeError:\n",
        "\tprint(\"Error: cannot add an int and a str\")"
      ],
      "metadata": {
        "id": "XUzx2B78qioM",
        "colab": {
          "base_uri": "https://localhost:8080/"
        },
        "outputId": "75d6e19f-847b-4c35-a88b-3d2211397650"
      },
      "execution_count": null,
      "outputs": [
        {
          "output_type": "stream",
          "name": "stdout",
          "text": [
            "Error: cannot add an int and a str\n"
          ]
        }
      ]
    },
    {
      "cell_type": "code",
      "source": [
        "# Python program to handle simple runtime error\n",
        "\n",
        "a = [1, 2, 3]\n",
        "try:\n",
        "\tprint (\"Second element = %d\" %(a[1]))\n",
        "\n",
        "\t# Throws error since there are only 3 elements in array\n",
        "\tprint (\"Fourth element = %d\" %(a[3]))\n",
        "\n",
        "except:\n",
        "\tprint (\"An error occurred\")"
      ],
      "metadata": {
        "id": "q0J1eYCPqoh6",
        "colab": {
          "base_uri": "https://localhost:8080/"
        },
        "outputId": "dccaf9d8-9e22-401a-ee49-9342be332776"
      },
      "execution_count": null,
      "outputs": [
        {
          "output_type": "stream",
          "name": "stdout",
          "text": [
            "Second element = 2\n",
            "An error occurred\n"
          ]
        }
      ]
    },
    {
      "cell_type": "code",
      "source": [
        "# Program to handle multiple errors with one except statement\n",
        "\n",
        "def fun(a):\n",
        "\tif a < 4:\n",
        "\n",
        "\t\t# throws ZeroDivisionError for a = 3\n",
        "\t\tb = a/(a-3)\n",
        "\n",
        "\t# throws NameError if a >= 4\n",
        "\tprint(\"Value of b = \", b)\n",
        "\n",
        "try:\n",
        "\tfun(3)\n",
        "\tfun(5)\n",
        "\n",
        "# note that braces () are necessary here for multiple exceptions\n",
        "except ZeroDivisionError:\n",
        "\tprint(\"ZeroDivisionError Occurred and Handled\")\n",
        "except NameError:\n",
        "\tprint(\"NameError Occurred and Handled\")"
      ],
      "metadata": {
        "id": "dRBjl84DqqeF",
        "colab": {
          "base_uri": "https://localhost:8080/"
        },
        "outputId": "9963c80b-a423-4c98-e610-9fdae8363733"
      },
      "execution_count": null,
      "outputs": [
        {
          "output_type": "stream",
          "name": "stdout",
          "text": [
            "ZeroDivisionError Occurred and Handled\n"
          ]
        }
      ]
    },
    {
      "cell_type": "markdown",
      "source": [
        "# Python's Module & Library"
      ],
      "metadata": {
        "id": "ucmtm6OimWGl"
      }
    },
    {
      "cell_type": "code",
      "source": [
        "# Let's say you have a file named math_operations.py with the following code:\n",
        "\n",
        "# def add(a, b):\n",
        "#     return a + b\n",
        "\n",
        "# def subtract(a, b):\n",
        "#     return a - b"
      ],
      "metadata": {
        "id": "NZUk-Fugmb2h"
      },
      "execution_count": null,
      "outputs": []
    },
    {
      "cell_type": "code",
      "source": [
        "# This file is a module, and you can use the functions defined in this module in another Python script by importing it:\n",
        "\n",
        "import math_operations\n",
        "\n",
        "result = math_operations.add(5, 3)\n",
        "print(result)  # Output: 8"
      ],
      "metadata": {
        "id": "XjO0b2UhmhOd",
        "colab": {
          "base_uri": "https://localhost:8080/"
        },
        "outputId": "b81d41b9-0642-4836-c137-bd2a88827994"
      },
      "execution_count": null,
      "outputs": [
        {
          "output_type": "stream",
          "name": "stdout",
          "text": [
            "8\n"
          ]
        }
      ]
    },
    {
      "cell_type": "code",
      "source": [
        "# The Python standard library includes a module named math, which provides mathematical functions like trigonometry,\n",
        "# logarithms, and constants like pi and e.\n",
        "\n",
        "import math\n",
        "\n",
        "print(math.sqrt(25))  # Output: 5.0\n",
        "print(math.sin(math.pi/2))  # Output: 1.0"
      ],
      "metadata": {
        "id": "JhIT8GpHmzkl",
        "colab": {
          "base_uri": "https://localhost:8080/"
        },
        "outputId": "cdd06bc5-600b-496c-d2dc-80c2ccd45c1c"
      },
      "execution_count": null,
      "outputs": [
        {
          "output_type": "stream",
          "name": "stdout",
          "text": [
            "5.0\n",
            "1.0\n"
          ]
        }
      ]
    },
    {
      "cell_type": "code",
      "source": [
        "pip install pandas"
      ],
      "metadata": {
        "colab": {
          "base_uri": "https://localhost:8080/"
        },
        "id": "FWzyj37_okBZ",
        "outputId": "7ed7b47b-5c92-46ff-b8fa-20883ef3d50b"
      },
      "execution_count": null,
      "outputs": [
        {
          "output_type": "stream",
          "name": "stdout",
          "text": [
            "Requirement already satisfied: pandas in /usr/local/lib/python3.10/dist-packages (1.5.3)\n",
            "Requirement already satisfied: python-dateutil>=2.8.1 in /usr/local/lib/python3.10/dist-packages (from pandas) (2.8.2)\n",
            "Requirement already satisfied: pytz>=2020.1 in /usr/local/lib/python3.10/dist-packages (from pandas) (2022.7.1)\n",
            "Requirement already satisfied: numpy>=1.21.0 in /usr/local/lib/python3.10/dist-packages (from pandas) (1.22.4)\n",
            "Requirement already satisfied: six>=1.5 in /usr/local/lib/python3.10/dist-packages (from python-dateutil>=2.8.1->pandas) (1.16.0)\n"
          ]
        }
      ]
    }
  ]
}