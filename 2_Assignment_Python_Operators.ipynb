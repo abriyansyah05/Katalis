{
  "nbformat": 4,
  "nbformat_minor": 0,
  "metadata": {
    "colab": {
      "provenance": [],
      "authorship_tag": "ABX9TyN9aoUk++KPyLWe5IZzoL2V",
      "include_colab_link": true
    },
    "kernelspec": {
      "name": "python3",
      "display_name": "Python 3"
    },
    "language_info": {
      "name": "python"
    }
  },
  "cells": [
    {
      "cell_type": "markdown",
      "metadata": {
        "id": "view-in-github",
        "colab_type": "text"
      },
      "source": [
        "<a href=\"https://colab.research.google.com/github/abriyansyah05/Katalis/blob/main/2_Assignment_Python_Operators.ipynb\" target=\"_parent\"><img src=\"https://colab.research.google.com/assets/colab-badge.svg\" alt=\"Open In Colab\"/></a>"
      ]
    },
    {
      "cell_type": "markdown",
      "source": [
        "#Assignment: Python Operators"
      ],
      "metadata": {
        "id": "8o5EqDGsvPqz"
      }
    },
    {
      "cell_type": "markdown",
      "source": [
        "1. Write program that takes two integer inputs from the user and names the variables 'num1' and 'num2'."
      ],
      "metadata": {
        "id": "f7YAo7bpwiPO"
      }
    },
    {
      "cell_type": "code",
      "execution_count": 2,
      "metadata": {
        "colab": {
          "base_uri": "https://localhost:8080/"
        },
        "id": "jq-dcY44vMVm",
        "outputId": "13fce416-8bfe-46d7-9a27-0fdec9abd820"
      },
      "outputs": [
        {
          "name": "stdout",
          "output_type": "stream",
          "text": [
            "Input var Num1: 10\n",
            "Input var Num2: 5\n"
          ]
        }
      ],
      "source": [
        "num1 = int(input(\"Input var Num1: \"))\n",
        "num2 = int(input(\"Input var Num2: \"))"
      ]
    },
    {
      "cell_type": "markdown",
      "source": [
        "2. Implement operators consisting of addition, subtraction, multiplication, division, floor division, exponentiation, and modulus using \"num1\" and \"num2\"."
      ],
      "metadata": {
        "id": "x6nWWAP9y-Ud"
      }
    },
    {
      "cell_type": "code",
      "source": [
        "sum_result = num1 + num2\n",
        "\n",
        "sub_result = num1 - num2\n",
        "\n",
        "mul_result = num1 * num2\n",
        "\n",
        "div_result = num1 / num2\n",
        "\n",
        "floor_div_result = num1 // num2\n",
        "\n",
        "exp_result = num1 ** num2\n",
        "\n",
        "mod_result = num1 % num2"
      ],
      "metadata": {
        "id": "mD5TL1qYy9nA"
      },
      "execution_count": 3,
      "outputs": []
    },
    {
      "cell_type": "markdown",
      "source": [
        "3. Print the results of all the Operators"
      ],
      "metadata": {
        "id": "QV4f_znG_SYP"
      }
    },
    {
      "cell_type": "code",
      "source": [
        "print (sum_result)\n",
        "\n",
        "print (sub_result)\n",
        "\n",
        "print (mul_result)\n",
        "\n",
        "print (div_result)\n",
        "\n",
        "print (floor_div_result)\n",
        "\n",
        "print (exp_result )\n",
        "\n",
        "print (mod_result)"
      ],
      "metadata": {
        "colab": {
          "base_uri": "https://localhost:8080/"
        },
        "id": "uWFxSRb4_WeS",
        "outputId": "33086667-11c6-46ee-b4ac-c9cc73ac8a65"
      },
      "execution_count": 4,
      "outputs": [
        {
          "output_type": "stream",
          "name": "stdout",
          "text": [
            "15\n",
            "5\n",
            "50\n",
            "2.0\n",
            "2\n",
            "100000\n",
            "0\n"
          ]
        }
      ]
    },
    {
      "cell_type": "markdown",
      "source": [
        "4. Implement comparison operators consisting of greater, less, equal, and not equal"
      ],
      "metadata": {
        "id": "Pe7jvAhgC6Lu"
      }
    },
    {
      "cell_type": "code",
      "source": [
        "is_greater = num1 > num2\n",
        "\n",
        "is_less = num1 < num2\n",
        "\n",
        "is_equal = num1 == num2\n",
        "\n",
        "is_not_equal = num1 != num2"
      ],
      "metadata": {
        "id": "mvBC0bsUEZjc"
      },
      "execution_count": 5,
      "outputs": []
    },
    {
      "cell_type": "markdown",
      "source": [
        "5. Print all of Aritmetic Operators and Comparison Operators"
      ],
      "metadata": {
        "id": "o77YktCRH2Jo"
      }
    },
    {
      "cell_type": "code",
      "source": [
        "\n",
        "print (\"Enter the first number: \", num1)\n",
        "print (\"\\nEnter the second number: \", num2)\n",
        "print(\"\\nResults of Operations:\")\n",
        "print(num1, \" + \", num2 ,\" = \" , sum_result)\n",
        "print(num1, \" - \", num2 ,\" = \" , sub_result)\n",
        "print(num1, \" * \", num2 ,\" = \" , mul_result)\n",
        "print(num1, \" / \", num2 ,\" = \" , div_result)\n",
        "print(num1, \" // \", num2 ,\" = \" , floor_div_result)\n",
        "print(num1, \" ** \", num2 ,\" = \" , exp_result)\n",
        "print(num1, \" % \", num2 ,\" = \" , mod_result)\n",
        "\n",
        "print(\"\\nComparison Results:\")\n",
        "print(num1, \"is greater than \", num2 ,\" : \" , is_greater)\n",
        "print(num1, \"is less than \", num2 ,\" : \" , is_less)\n",
        "print(num1, \"is equal to \", num2 ,\" : \" , is_equal)\n",
        "print(num1, \"is not equal to \", num2 ,\" : \" , is_not_equal)\n"
      ],
      "metadata": {
        "colab": {
          "base_uri": "https://localhost:8080/"
        },
        "id": "rSxph29vIHGf",
        "outputId": "a50910ad-b03f-4583-88fe-44a6fd0fe31a"
      },
      "execution_count": 6,
      "outputs": [
        {
          "output_type": "stream",
          "name": "stdout",
          "text": [
            "Enter the first number:  10\n",
            "\n",
            "Enter the second number:  5\n",
            "\n",
            "Results of Operations:\n",
            "10  +  5  =  15\n",
            "10  -  5  =  5\n",
            "10  *  5  =  50\n",
            "10  /  5  =  2.0\n",
            "10  //  5  =  2\n",
            "10  **  5  =  100000\n",
            "10  %  5  =  0\n",
            "\n",
            "Comparison Results:\n",
            "10 is greater than  5  :  True\n",
            "10 is less than  5  :  False\n",
            "10 is equal to  5  :  False\n",
            "10 is not equal to  5  :  True\n"
          ]
        }
      ]
    }
  ]
}